{
 "cells": [
  {
   "cell_type": "code",
   "execution_count": 0,
   "metadata": {
    "application/vnd.databricks.v1+cell": {
     "cellMetadata": {
      "byteLimit": 2048000,
      "rowLimit": 10000
     },
     "inputWidgets": {},
     "nuid": "11e52251-bb37-404f-9591-78ac6c53393b",
     "showTitle": false,
     "title": ""
    }
   },
   "outputs": [
    {
     "output_type": "display_data",
     "data": {
      "text/html": [
       "\n",
       "            <div>\n",
       "                <p><b>SparkSession - hive</b></p>\n",
       "                \n",
       "        <div>\n",
       "            <p><b>SparkContext</b></p>\n",
       "\n",
       "            <p><a href=\"/?o=946218468116420#setting/sparkui/0726-104729-4nujviep/driver-4074670975988288291\">Spark UI</a></p>\n",
       "\n",
       "            <dl>\n",
       "              <dt>Version</dt>\n",
       "                <dd><code>v3.3.2</code></dd>\n",
       "              <dt>Master</dt>\n",
       "                <dd><code>local[8]</code></dd>\n",
       "              <dt>AppName</dt>\n",
       "                <dd><code>Databricks Shell</code></dd>\n",
       "            </dl>\n",
       "        </div>\n",
       "        \n",
       "            </div>\n",
       "        "
      ]
     },
     "metadata": {
      "application/vnd.databricks.v1+output": {
       "addedWidgets": {},
       "arguments": {},
       "data": "\n            <div>\n                <p><b>SparkSession - hive</b></p>\n                \n        <div>\n            <p><b>SparkContext</b></p>\n\n            <p><a href=\"/?o=946218468116420#setting/sparkui/0726-104729-4nujviep/driver-4074670975988288291\">Spark UI</a></p>\n\n            <dl>\n              <dt>Version</dt>\n                <dd><code>v3.3.2</code></dd>\n              <dt>Master</dt>\n                <dd><code>local[8]</code></dd>\n              <dt>AppName</dt>\n                <dd><code>Databricks Shell</code></dd>\n            </dl>\n        </div>\n        \n            </div>\n        ",
       "datasetInfos": [],
       "metadata": {},
       "removedWidgets": [],
       "textData": null,
       "type": "htmlSandbox"
      }
     },
     "output_type": "display_data"
    }
   ],
   "source": [
    "spark\n"
   ]
  },
  {
   "cell_type": "code",
   "execution_count": 0,
   "metadata": {
    "application/vnd.databricks.v1+cell": {
     "cellMetadata": {
      "byteLimit": 2048000,
      "rowLimit": 10000
     },
     "inputWidgets": {},
     "nuid": "91fdca36-a33b-477a-ac02-911fbc3dcfc9",
     "showTitle": false,
     "title": ""
    }
   },
   "outputs": [],
   "source": [
    "from pyspark.sql import SparkSession \n",
    "\n",
    "#create session\n",
    "spark = SparkSession.builder.appName(\"IPL data analysis\").getOrCreate()"
   ]
  },
  {
   "cell_type": "code",
   "execution_count": 0,
   "metadata": {
    "application/vnd.databricks.v1+cell": {
     "cellMetadata": {
      "byteLimit": 2048000,
      "rowLimit": 10000
     },
     "inputWidgets": {},
     "nuid": "9308cd5b-be3f-48e6-b387-af88b7d8af9e",
     "showTitle": false,
     "title": ""
    }
   },
   "outputs": [
    {
     "output_type": "display_data",
     "data": {
      "text/html": [
       "\n",
       "            <div>\n",
       "                <p><b>SparkSession - hive</b></p>\n",
       "                \n",
       "        <div>\n",
       "            <p><b>SparkContext</b></p>\n",
       "\n",
       "            <p><a href=\"/?o=946218468116420#setting/sparkui/0726-104729-4nujviep/driver-4074670975988288291\">Spark UI</a></p>\n",
       "\n",
       "            <dl>\n",
       "              <dt>Version</dt>\n",
       "                <dd><code>v3.3.2</code></dd>\n",
       "              <dt>Master</dt>\n",
       "                <dd><code>local[8]</code></dd>\n",
       "              <dt>AppName</dt>\n",
       "                <dd><code>Databricks Shell</code></dd>\n",
       "            </dl>\n",
       "        </div>\n",
       "        \n",
       "            </div>\n",
       "        "
      ]
     },
     "metadata": {
      "application/vnd.databricks.v1+output": {
       "addedWidgets": {},
       "arguments": {},
       "data": "\n            <div>\n                <p><b>SparkSession - hive</b></p>\n                \n        <div>\n            <p><b>SparkContext</b></p>\n\n            <p><a href=\"/?o=946218468116420#setting/sparkui/0726-104729-4nujviep/driver-4074670975988288291\">Spark UI</a></p>\n\n            <dl>\n              <dt>Version</dt>\n                <dd><code>v3.3.2</code></dd>\n              <dt>Master</dt>\n                <dd><code>local[8]</code></dd>\n              <dt>AppName</dt>\n                <dd><code>Databricks Shell</code></dd>\n            </dl>\n        </div>\n        \n            </div>\n        ",
       "datasetInfos": [],
       "metadata": {},
       "removedWidgets": [],
       "textData": null,
       "type": "htmlSandbox"
      }
     },
     "output_type": "display_data"
    }
   ],
   "source": [
    "spark"
   ]
  },
  {
   "cell_type": "code",
   "execution_count": 0,
   "metadata": {
    "application/vnd.databricks.v1+cell": {
     "cellMetadata": {
      "byteLimit": 2048000,
      "rowLimit": 10000
     },
     "inputWidgets": {},
     "nuid": "4531d9a4-78ed-40a8-898a-fdc8239a72aa",
     "showTitle": false,
     "title": ""
    }
   },
   "outputs": [],
   "source": [
    "from pyspark.sql.types import StructField, StructType, IntegerType, StringType, BooleanType, DateType, DecimalType\n",
    "from pyspark.sql.functions import col, when, sum, avg, row_number\n",
    "from pyspark.sql.window import Window\n",
    "\n",
    "ball_by_ball_schema = StructType([\n",
    "    StructField(\"match_id\", IntegerType(), True),\n",
    "    StructField(\"over_id\", IntegerType(), True),\n",
    "    StructField(\"ball_id\", IntegerType(), True),\n",
    "    StructField(\"innings_no\", IntegerType(), True),\n",
    "    StructField(\"team_batting\", StringType(), True),\n",
    "    StructField(\"team_bowling\", StringType(), True),\n",
    "    StructField(\"striker_batting_position\", IntegerType(), True),\n",
    "    StructField(\"extra_type\", StringType(), True),\n",
    "    StructField(\"runs_scored\", IntegerType(), True),\n",
    "    StructField(\"extra_runs\", IntegerType(), True),\n",
    "    StructField(\"wides\", IntegerType(), True),\n",
    "    StructField(\"legbyes\", IntegerType(), True),\n",
    "    StructField(\"byes\", IntegerType(), True),\n",
    "    StructField(\"noballs\", IntegerType(), True),\n",
    "    StructField(\"penalty\", IntegerType(), True),\n",
    "    StructField(\"bowler_extras\", IntegerType(), True),\n",
    "    StructField(\"out_type\", StringType(), True),\n",
    "    StructField(\"caught\", BooleanType(), True),\n",
    "    StructField(\"bowled\", BooleanType(), True),\n",
    "    StructField(\"run_out\", BooleanType(), True),\n",
    "    StructField(\"lbw\", BooleanType(), True),\n",
    "    StructField(\"retired_hurt\", BooleanType(), True),\n",
    "    StructField(\"stumped\", BooleanType(), True),\n",
    "    StructField(\"caught_and_bowled\", BooleanType(), True),\n",
    "    StructField(\"hit_wicket\", BooleanType(), True),\n",
    "    StructField(\"obstructingfeild\", BooleanType(), True),\n",
    "    StructField(\"bowler_wicket\", BooleanType(), True),\n",
    "    StructField(\"match_date\", DateType(), True),\n",
    "    StructField(\"season\", IntegerType(), True),\n",
    "    StructField(\"striker\", IntegerType(), True),\n",
    "    StructField(\"non_striker\", IntegerType(), True),\n",
    "    StructField(\"bowler\", IntegerType(), True),\n",
    "    StructField(\"player_out\", IntegerType(), True),\n",
    "    StructField(\"fielders\", IntegerType(), True),\n",
    "    StructField(\"striker_match_sk\", IntegerType(), True),\n",
    "    StructField(\"strikersk\", IntegerType(), True),\n",
    "    StructField(\"nonstriker_match_sk\", IntegerType(), True),\n",
    "    StructField(\"nonstriker_sk\", IntegerType(), True),\n",
    "    StructField(\"fielder_match_sk\", IntegerType(), True),\n",
    "    StructField(\"fielder_sk\", IntegerType(), True),\n",
    "    StructField(\"bowler_match_sk\", IntegerType(), True),\n",
    "    StructField(\"bowler_sk\", IntegerType(), True),\n",
    "    StructField(\"playerout_match_sk\", IntegerType(), True),\n",
    "    StructField(\"battingteam_sk\", IntegerType(), True),\n",
    "    StructField(\"bowlingteam_sk\", IntegerType(), True),\n",
    "    StructField(\"keeper_catch\", BooleanType(), True),\n",
    "    StructField(\"player_out_sk\", IntegerType(), True),\n",
    "    StructField(\"matchdatesk\", DateType(), True)\n",
    "])"
   ]
  },
  {
   "cell_type": "code",
   "execution_count": 0,
   "metadata": {
    "application/vnd.databricks.v1+cell": {
     "cellMetadata": {
      "byteLimit": 2048000,
      "rowLimit": 10000
     },
     "inputWidgets": {},
     "nuid": "05708419-a168-4e23-9a2e-43b5343d87df",
     "showTitle": false,
     "title": ""
    }
   },
   "outputs": [],
   "source": [
    "ball_by_ball_df = spark.read.schema(ball_by_ball_schema).format(\"csv\").option(\"header\",\"true\").load(\"s3://ipl-data-analysis-project/Ball_By_Ball.csv\")\n",
    "     "
   ]
  },
  {
   "cell_type": "code",
   "execution_count": 0,
   "metadata": {
    "application/vnd.databricks.v1+cell": {
     "cellMetadata": {
      "byteLimit": 2048000,
      "rowLimit": 10000
     },
     "inputWidgets": {},
     "nuid": "4cc27372-d3f5-4e80-8c1e-352d78950000",
     "showTitle": false,
     "title": ""
    }
   },
   "outputs": [
    {
     "output_type": "stream",
     "name": "stdout",
     "output_type": "stream",
     "text": [
      "+--------+-------+-------+----------+------------+------------+------------------------+----------+-----------+----------+-----+-------+----+-------+-------+-------------+--------------+------+------+-------+----+------------+-------+-----------------+----------+----------------+-------------+----------+------+-------+-----------+------+----------+--------+----------------+---------+-------------------+-------------+----------------+----------+---------------+---------+------------------+--------------+--------------+------------+-------------+-----------+\n|match_id|over_id|ball_id|innings_no|team_batting|team_bowling|striker_batting_position|extra_type|runs_scored|extra_runs|wides|legbyes|byes|noballs|penalty|bowler_extras|      out_type|caught|bowled|run_out| lbw|retired_hurt|stumped|caught_and_bowled|hit_wicket|obstructingfeild|bowler_wicket|match_date|season|striker|non_striker|bowler|player_out|fielders|striker_match_sk|strikersk|nonstriker_match_sk|nonstriker_sk|fielder_match_sk|fielder_sk|bowler_match_sk|bowler_sk|playerout_match_sk|battingteam_sk|bowlingteam_sk|keeper_catch|player_out_sk|matchdatesk|\n+--------+-------+-------+----------+------------+------------+------------------------+----------+-----------+----------+-----+-------+----+-------+-------+-------------+--------------+------+------+-------+----+------------+-------+-----------------+----------+----------------+-------------+----------+------+-------+-----------+------+----------+--------+----------------+---------+-------------------+-------------+----------------+----------+---------------+---------+------------------+--------------+--------------+------------+-------------+-----------+\n|  598028|     15|      6|         1|           5|           2|                       6| No Extras|          4|         0|    0|      0|   0|      0|      0|            0|Not Applicable|  null|  null|   null|null|        null|   null|             null|      null|            null|         null|      null|  2013|    277|        104|    83|      null|    null|           20336|      276|              20333|          103|              -1|        -1|          20343|       82|                -1|             4|             1|        null|            0|       null|\n|  598028|     14|      1|         1|           5|           2|                       5| No Extras|          1|         0|    0|      0|   0|      0|      0|            0|Not Applicable|  null|  null|   null|null|        null|   null|             null|      null|            null|         null|      null|  2013|    104|          6|   346|      null|    null|           20333|      103|              20328|            5|              -1|        -1|          20348|      345|                -1|             4|             1|        null|            0|       null|\n|  598028|     14|      2|         1|           5|           2|                       3| No Extras|          1|         0|    0|      0|   0|      0|      0|            0|Not Applicable|  null|  null|   null|null|        null|   null|             null|      null|            null|         null|      null|  2013|      6|        104|   346|      null|    null|           20328|        5|              20333|          103|              -1|        -1|          20348|      345|                -1|             4|             1|        null|            0|       null|\n+--------+-------+-------+----------+------------+------------+------------------------+----------+-----------+----------+-----+-------+----+-------+-------+-------------+--------------+------+------+-------+----+------------+-------+-----------------+----------+----------------+-------------+----------+------+-------+-----------+------+----------+--------+----------------+---------+-------------------+-------------+----------------+----------+---------------+---------+------------------+--------------+--------------+------------+-------------+-----------+\nonly showing top 3 rows\n\n"
     ]
    }
   ],
   "source": [
    "ball_by_ball_df.show(3)"
   ]
  },
  {
   "cell_type": "code",
   "execution_count": 0,
   "metadata": {
    "application/vnd.databricks.v1+cell": {
     "cellMetadata": {
      "byteLimit": 2048000,
      "rowLimit": 10000
     },
     "inputWidgets": {},
     "nuid": "4deb0380-eea8-4ffc-8406-e517ba87f753",
     "showTitle": false,
     "title": ""
    }
   },
   "outputs": [],
   "source": [
    "from pyspark.sql.types import StructField, StructType, IntegerType, StringType, BooleanType, DateType, DecimalType\n",
    "from pyspark.sql.functions import col, when, sum, avg, row_number\n",
    "from pyspark.sql.window import Window"
   ]
  },
  {
   "cell_type": "code",
   "execution_count": 0,
   "metadata": {
    "application/vnd.databricks.v1+cell": {
     "cellMetadata": {
      "byteLimit": 2048000,
      "rowLimit": 10000
     },
     "inputWidgets": {},
     "nuid": "ca77352c-4852-454b-99fe-5fbe9f84f506",
     "showTitle": false,
     "title": ""
    }
   },
   "outputs": [],
   "source": [
    "match_schema = StructType([\n",
    "    StructField(\"match_sk\", IntegerType(), True),\n",
    "    StructField(\"match_id\", IntegerType(), True),\n",
    "    StructField(\"team1\", StringType(), True),\n",
    "    StructField(\"team2\", StringType(), True),\n",
    "    StructField(\"match_date\", DateType(), True),\n",
    "    StructField(\"season_year\", IntegerType(), True),\n",
    "    StructField(\"venue_name\", StringType(), True),\n",
    "    StructField(\"city_name\", StringType(), True),\n",
    "    StructField(\"country_name\", StringType(), True),\n",
    "    StructField(\"toss_winner\", StringType(), True),\n",
    "    StructField(\"match_winner\", StringType(), True),\n",
    "    StructField(\"toss_name\", StringType(), True),\n",
    "    StructField(\"win_type\", StringType(), True),\n",
    "    StructField(\"outcome_type\", StringType(), True),\n",
    "    StructField(\"manofmach\", StringType(), True),\n",
    "    StructField(\"win_margin\", IntegerType(), True),\n",
    "    StructField(\"country_id\", IntegerType(), True)\n",
    "])\n",
    "match_df = spark.read.schema(match_schema).format(\"csv\").option(\"header\",\"true\").load(\"s3://ipl-data-analysis-project/Match.csv\")\n",
    "\n",
    "     "
   ]
  },
  {
   "cell_type": "code",
   "execution_count": 0,
   "metadata": {
    "application/vnd.databricks.v1+cell": {
     "cellMetadata": {
      "byteLimit": 2048000,
      "rowLimit": 10000
     },
     "inputWidgets": {},
     "nuid": "04255a0b-f77b-4198-b0e9-dffa57c5b809",
     "showTitle": false,
     "title": ""
    }
   },
   "outputs": [],
   "source": [
    "player_schema = StructType([\n",
    "    StructField(\"player_sk\", IntegerType(), True),\n",
    "    StructField(\"player_id\", IntegerType(), True),\n",
    "    StructField(\"player_name\", StringType(), True),\n",
    "    StructField(\"dob\", DateType(), True),\n",
    "    StructField(\"batting_hand\", StringType(), True),\n",
    "    StructField(\"bowling_skill\", StringType(), True),\n",
    "    StructField(\"country_name\", StringType(), True)\n",
    "])\n",
    "\n",
    "player_df = spark.read.schema(player_schema).format(\"csv\").option(\"header\",\"true\").load(\"s3://ipl-data-analysis-project/Player.csv\")\n"
   ]
  },
  {
   "cell_type": "code",
   "execution_count": 0,
   "metadata": {
    "application/vnd.databricks.v1+cell": {
     "cellMetadata": {
      "byteLimit": 2048000,
      "rowLimit": 10000
     },
     "inputWidgets": {},
     "nuid": "cdb33eb2-0b8d-48b2-be48-ca9f02bf9e6a",
     "showTitle": false,
     "title": ""
    }
   },
   "outputs": [],
   "source": [
    "team_schema = StructType([\n",
    "    StructField(\"team_sk\", IntegerType(), True),\n",
    "    StructField(\"team_id\", IntegerType(), True),\n",
    "    StructField(\"team_name\", StringType(), True)\n",
    "])\n",
    "\n",
    "team_df = spark.read.schema(team_schema).format(\"csv\").option(\"header\",\"true\").load(\"s3://ipl-data-analysis-project/Team.csv\")\n",
    "     "
   ]
  },
  {
   "cell_type": "code",
   "execution_count": 0,
   "metadata": {
    "application/vnd.databricks.v1+cell": {
     "cellMetadata": {
      "byteLimit": 2048000,
      "rowLimit": 10000
     },
     "inputWidgets": {},
     "nuid": "0b57771f-cc38-4437-bbb3-7851007374af",
     "showTitle": false,
     "title": ""
    }
   },
   "outputs": [],
   "source": [
    "\n",
    "player_match_schema = StructType([\n",
    "    StructField(\"player_match_sk\", IntegerType(), True),\n",
    "    StructField(\"playermatch_key\", DecimalType(), True),\n",
    "    StructField(\"match_id\", IntegerType(), True),\n",
    "    StructField(\"player_id\", IntegerType(), True),\n",
    "    StructField(\"player_name\", StringType(), True),\n",
    "    StructField(\"dob\", DateType(), True),\n",
    "    StructField(\"batting_hand\", StringType(), True),\n",
    "    StructField(\"bowling_skill\", StringType(), True),\n",
    "    StructField(\"country_name\", StringType(), True),\n",
    "    StructField(\"role_desc\", StringType(), True),\n",
    "    StructField(\"player_team\", StringType(), True),\n",
    "    StructField(\"opposit_team\", StringType(), True),\n",
    "    StructField(\"season_year\", IntegerType(), True),\n",
    "    StructField(\"is_manofthematch\", BooleanType(), True),\n",
    "    StructField(\"age_as_on_match\", IntegerType(), True),\n",
    "    StructField(\"isplayers_team_won\", BooleanType(), True),\n",
    "    StructField(\"batting_status\", StringType(), True),\n",
    "    StructField(\"bowling_status\", StringType(), True),\n",
    "    StructField(\"player_captain\", StringType(), True),\n",
    "    StructField(\"opposit_captain\", StringType(), True),\n",
    "    StructField(\"player_keeper\", StringType(), True),\n",
    "    StructField(\"opposit_keeper\", StringType(), True)\n",
    "])\n",
    "\n",
    "player_match_df = spark.read.schema(player_match_schema).format(\"csv\").option(\"header\",\"true\").load(\"s3://ipl-data-analysis-project/Player_match.csv\")"
   ]
  },
  {
   "cell_type": "code",
   "execution_count": 0,
   "metadata": {
    "application/vnd.databricks.v1+cell": {
     "cellMetadata": {
      "byteLimit": 2048000,
      "rowLimit": 10000
     },
     "inputWidgets": {},
     "nuid": "c6c51270-c6f6-46b3-9619-aba99f45cd63",
     "showTitle": false,
     "title": ""
    }
   },
   "outputs": [],
   "source": [
    "# ball_by_ball_df = ball_by_ball_df.filter((col(\"wides\")==0) & (col(\"noballs\")==0))\n",
    "total_and_avg_runs = ball_by_ball_df.groupBy(\"match_id\",\"innings_no\").agg(\n",
    "    sum('runs_scored').alias('total_runs'),\n",
    "    avg('runs_scored').alias('average_runs_per_ball')\n",
    ")"
   ]
  },
  {
   "cell_type": "code",
   "execution_count": 0,
   "metadata": {
    "application/vnd.databricks.v1+cell": {
     "cellMetadata": {
      "byteLimit": 2048000,
      "rowLimit": 10000
     },
     "inputWidgets": {},
     "nuid": "d20bd930-9c17-4505-a30d-a7cac2887fa6",
     "showTitle": false,
     "title": ""
    }
   },
   "outputs": [
    {
     "output_type": "stream",
     "name": "stdout",
     "output_type": "stream",
     "text": [
      "+--------+----------+----------+---------------------+\n|match_id|innings_no|total_runs|average_runs_per_ball|\n+--------+----------+----------+---------------------+\n|  980940|         1|       138|   1.1219512195121952|\n|  419132|         1|       165|   1.2692307692307692|\n| 1082632|         2|       202|   1.8363636363636364|\n+--------+----------+----------+---------------------+\nonly showing top 3 rows\n\n"
     ]
    }
   ],
   "source": [
    "total_and_avg_runs.show(3)"
   ]
  },
  {
   "cell_type": "code",
   "execution_count": 0,
   "metadata": {
    "application/vnd.databricks.v1+cell": {
     "cellMetadata": {
      "byteLimit": 2048000,
      "rowLimit": 10000
     },
     "inputWidgets": {},
     "nuid": "719a6aab-2cb8-4caf-a2c4-394cc54aaffe",
     "showTitle": false,
     "title": ""
    }
   },
   "outputs": [],
   "source": [
    "# Calculating runing total of runs in each match for each over\n",
    "windowSpec = Window.partitionBy('match_id','innings_no').orderBy('over_id')\n",
    "ball_by_ball_df = ball_by_ball_df.withColumn(\n",
    "    'running_total_runs', sum('runs_scored').over(windowSpec)\n",
    ")"
   ]
  },
  {
   "cell_type": "code",
   "execution_count": 0,
   "metadata": {
    "application/vnd.databricks.v1+cell": {
     "cellMetadata": {
      "byteLimit": 2048000,
      "rowLimit": 10000
     },
     "inputWidgets": {},
     "nuid": "b0510175-ed84-4510-ba3a-5fc5febb0f49",
     "showTitle": false,
     "title": ""
    }
   },
   "outputs": [],
   "source": [
    "# Conditional Formatting \n",
    "# Flagging for high impact ball (either wicket or run more than 6)\n",
    "ball_by_ball_df = ball_by_ball_df.withColumn(\n",
    "    \"high_impact\",\n",
    "    when((col(\"runs_scored\") + col(\"extra_runs\") > 6) | (col(\"bowler_wicket\") == True), True).otherwise(False)\n",
    ")"
   ]
  },
  {
   "cell_type": "code",
   "execution_count": 0,
   "metadata": {
    "application/vnd.databricks.v1+cell": {
     "cellMetadata": {
      "byteLimit": 2048000,
      "rowLimit": 10000
     },
     "inputWidgets": {},
     "nuid": "8650ad83-a1f3-4b59-a84d-3f00ffcb3696",
     "showTitle": false,
     "title": ""
    }
   },
   "outputs": [
    {
     "output_type": "stream",
     "name": "stdout",
     "output_type": "stream",
     "text": [
      "+--------+-------+-------+----------+------------+------------+------------------------+----------+-----------+----------+-----+-------+----+-------+-------+-------------+--------------+------+------+-------+----+------------+-------+-----------------+----------+----------------+-------------+----------+------+-------+-----------+------+----------+--------+----------------+---------+-------------------+-------------+----------------+----------+---------------+---------+------------------+--------------+--------------+------------+-------------+-----------+------------------+-----------+\n|match_id|over_id|ball_id|innings_no|team_batting|team_bowling|striker_batting_position|extra_type|runs_scored|extra_runs|wides|legbyes|byes|noballs|penalty|bowler_extras|      out_type|caught|bowled|run_out| lbw|retired_hurt|stumped|caught_and_bowled|hit_wicket|obstructingfeild|bowler_wicket|match_date|season|striker|non_striker|bowler|player_out|fielders|striker_match_sk|strikersk|nonstriker_match_sk|nonstriker_sk|fielder_match_sk|fielder_sk|bowler_match_sk|bowler_sk|playerout_match_sk|battingteam_sk|bowlingteam_sk|keeper_catch|player_out_sk|matchdatesk|running_total_runs|high_impact|\n+--------+-------+-------+----------+------------+------------+------------------------+----------+-----------+----------+-----+-------+----+-------+-------+-------------+--------------+------+------+-------+----+------------+-------+-----------------+----------+----------------+-------------+----------+------+-------+-----------+------+----------+--------+----------------+---------+-------------------+-------------+----------------+----------+---------------+---------+------------------+--------------+--------------+------------+-------------+-----------+------------------+-----------+\n|  335990|      1|      1|         2|           2|           7|                       1| No Extras|          0|         0|    0|      0|   0|      0|      0|            0|Not Applicable|  null|  null|   null|null|        null|   null|             null|      null|            null|         null|      null|  2008|     51|          6|    73|      null|    null|           12779|       50|              12771|            5|              -1|        -1|          12769|       72|                -1|             1|             6|        null|            0|       null|                10|      false|\n|  335990|      1|      2|         2|           2|           7|                       1| No Extras|          1|         0|    0|      0|   0|      0|      0|            0|Not Applicable|  null|  null|   null|null|        null|   null|             null|      null|            null|         null|      null|  2008|     51|          6|    73|      null|    null|           12779|       50|              12771|            5|              -1|        -1|          12769|       72|                -1|             1|             6|        null|            0|       null|                10|      false|\n|  335990|      1|      3|         2|           2|           7|                       2| No Extras|          0|         0|    0|      0|   0|      0|      0|            0|Not Applicable|  null|  null|   null|null|        null|   null|             null|      null|            null|         null|      null|  2008|      6|         51|    73|      null|    null|           12771|        5|              12779|           50|              -1|        -1|          12769|       72|                -1|             1|             6|        null|            0|       null|                10|      false|\n+--------+-------+-------+----------+------------+------------+------------------------+----------+-----------+----------+-----+-------+----+-------+-------+-------------+--------------+------+------+-------+----+------------+-------+-----------------+----------+----------------+-------------+----------+------+-------+-----------+------+----------+--------+----------------+---------+-------------------+-------------+----------------+----------+---------------+---------+------------------+--------------+--------------+------------+-------------+-----------+------------------+-----------+\nonly showing top 3 rows\n\n"
     ]
    }
   ],
   "source": [
    "ball_by_ball_df.show(3)"
   ]
  },
  {
   "cell_type": "code",
   "execution_count": 0,
   "metadata": {
    "application/vnd.databricks.v1+cell": {
     "cellMetadata": {
      "byteLimit": 2048000,
      "rowLimit": 10000
     },
     "inputWidgets": {},
     "nuid": "52a8b203-a468-466e-8457-af6830a0e6af",
     "showTitle": false,
     "title": ""
    }
   },
   "outputs": [
    {
     "output_type": "stream",
     "name": "stdout",
     "output_type": "stream",
     "text": [
      "+--------+--------+--------------------+--------------------+----------+-----------+--------------------+----------+------------+--------------------+--------------------+---------+--------+------------+-----------+----------+----------+----+-----+----+-------------------+---------------+\n|match_sk|match_id|               team1|               team2|match_date|season_year|          venue_name| city_name|country_name|         toss_winner|        match_winner|toss_name|win_type|outcome_type|  manofmach|win_margin|country_id|year|month| day|win_margin_category|TossComparision|\n+--------+--------+--------------------+--------------------+----------+-----------+--------------------+----------+------------+--------------------+--------------------+---------+--------+------------+-----------+----------+----------+----+-----+----+-------------------+---------------+\n|       0|  335987|Royal Challengers...|Kolkata Knight Ri...|      null|       2008|M Chinnaswamy Sta...| Bangalore|       India|Royal Challengers...|Kolkata Knight Ri...|    field|    runs|      Result|BB McCullum|       140|         1|null| null|null|               High|             No|\n|       1|  335988|     Kings XI Punjab| Chennai Super Kings|      null|       2008|Punjab Cricket As...|Chandigarh|       India| Chennai Super Kings| Chennai Super Kings|      bat|    runs|      Result| MEK Hussey|        33|         1|null| null|null|                Low|            Yes|\n|       2|  335989|    Delhi Daredevils|    Rajasthan Royals|      null|       2008|    Feroz Shah Kotla|     Delhi|       India|    Rajasthan Royals|    Delhi Daredevils|      bat| wickets|      Result|MF Maharoof|         9|         1|null| null|null|               High|             No|\n|       3|  335990|      Mumbai Indians|Royal Challengers...|      null|       2008|    Wankhede Stadium|    Mumbai|       India|      Mumbai Indians|Royal Challengers...|      bat| wickets|      Result| MV Boucher|         5|         1|null| null|null|             Medium|             No|\n|       4|  335991|Kolkata Knight Ri...|     Deccan Chargers|      null|       2008|        Eden Gardens|   Kolkata|       India|     Deccan Chargers|Kolkata Knight Ri...|      bat| wickets|      Result|  DJ Hussey|         5|         1|null| null|null|             Medium|             No|\n+--------+--------+--------------------+--------------------+----------+-----------+--------------------+----------+------------+--------------------+--------------------+---------+--------+------------+-----------+----------+----------+----+-----+----+-------------------+---------------+\nonly showing top 5 rows\n\n"
     ]
    }
   ],
   "source": [
    "from pyspark.sql.functions import year, month, dayofmonth, when\n",
    "\n",
    "# Extracting year, month, and day from the match date for more detailed time-based analysis\n",
    "match_df = match_df.withColumn(\"year\", year(\"match_date\"))\n",
    "match_df = match_df.withColumn(\"month\", month(\"match_date\"))\n",
    "match_df = match_df.withColumn(\"day\", dayofmonth(\"match_date\"))\n",
    "\n",
    "match_df = match_df.withColumn(\n",
    "    \"win_margin_category\",\n",
    "    when(\n",
    "        col(\"win_type\") == \"runs\",\n",
    "        when(col(\"win_margin\") >= 100, \"High\")\n",
    "        .when((col(\"win_margin\") >= 50) & (col(\"win_margin\") < 100), \"Medium\")\n",
    "        .otherwise(\"Low\")\n",
    "    ).when(\n",
    "        col(\"win_type\") == \"wickets\",\n",
    "        when(col(\"win_margin\") > 7, \"High\")\n",
    "        .when((col(\"win_margin\") >= 2) & (col(\"win_margin\") <= 7), \"Medium\")\n",
    "        .otherwise(\"Low\")\n",
    "    ).otherwise(\"Unknown\")  # In case win_type is neither 'runs' nor 'wickets'\n",
    ")\n",
    "# Updating the data to escape erorr later\n",
    "match_df = match_df.withColumn(\"toss_winner\", \n",
    "                           when(col(\"toss_winner\") == \"Rising Pune Supergiant\", \"Rising Pune Supergiants\")\n",
    "                           .otherwise(col(\"toss_winner\")))\n",
    "\n",
    "match_df = match_df.withColumn(\n",
    "    \"TossComparision\",\n",
    "    when(\n",
    "        col(\"toss_winner\")==col(\"match_winner\"), \"Yes\"\n",
    "    ).otherwise(\"No\")\n",
    ")\n",
    "\n",
    "match_df.show(5)"
   ]
  },
  {
   "cell_type": "code",
   "execution_count": 0,
   "metadata": {
    "application/vnd.databricks.v1+cell": {
     "cellMetadata": {
      "byteLimit": 2048000,
      "rowLimit": 10000
     },
     "inputWidgets": {},
     "nuid": "55b70a93-cdd6-4a76-a006-35987f413c4b",
     "showTitle": false,
     "title": ""
    }
   },
   "outputs": [
    {
     "output_type": "stream",
     "name": "stdout",
     "output_type": "stream",
     "text": [
      "+---------+---------+-----------+----+--------------+----------------+------------+-------------+\n|player_sk|player_id|player_name| dob|  batting_hand|   bowling_skill|country_name|batting_style|\n+---------+---------+-----------+----+--------------+----------------+------------+-------------+\n|        0|        1| sc ganguly|null| Left-hand bat|Right-arm medium|       India| Right-Handed|\n|        1|        2|bb mccullum|null|Right-hand bat|Right-arm medium| New Zealand| Right-Handed|\n+---------+---------+-----------+----+--------------+----------------+------------+-------------+\nonly showing top 2 rows\n\n"
     ]
    }
   ],
   "source": [
    "from pyspark.sql.functions import lower, regexp_replace\n",
    "\n",
    "# Normalize and clean player names\n",
    "player_df = player_df.withColumn(\"player_name\", lower(regexp_replace(\"player_name\", \"[^a-zA-Z0-9 ]\", \"\")))\n",
    "\n",
    "# Handle missing values in 'batting_hand' and 'bowling_skill' with a default 'unknown'\n",
    "player_df = player_df.na.fill({\"batting_hand\": \"unknown\", \"bowling_skill\": \"unknown\"})\n",
    "\n",
    "# Categorizing players based on batting hand\n",
    "player_df = player_df.withColumn(\n",
    "    \"batting_style\",\n",
    "    when(col(\"batting_hand\").contains(\"left\"), \"Left-Handed\").otherwise(\"Right-Handed\")\n",
    ")\n",
    "\n",
    "\n",
    "# Show the modified player DataFrame\n",
    "player_df.show(2)"
   ]
  },
  {
   "cell_type": "code",
   "execution_count": 0,
   "metadata": {
    "application/vnd.databricks.v1+cell": {
     "cellMetadata": {
      "byteLimit": 2048000,
      "rowLimit": 10000
     },
     "inputWidgets": {},
     "nuid": "def48f63-8e9d-4898-a8b5-c9211823260a",
     "showTitle": false,
     "title": ""
    }
   },
   "outputs": [],
   "source": [
    "ball_by_ball_df.createOrReplaceTempView(\"ball_by_ball\")\n",
    "match_df.createOrReplaceTempView(\"match\")\n",
    "player_df.createOrReplaceTempView(\"player\")\n",
    "player_match_df.createOrReplaceTempView(\"player_match\")\n",
    "team_df.createOrReplaceTempView(\"team\")"
   ]
  },
  {
   "cell_type": "code",
   "execution_count": 0,
   "metadata": {
    "application/vnd.databricks.v1+cell": {
     "cellMetadata": {
      "byteLimit": 2048000,
      "rowLimit": 10000
     },
     "inputWidgets": {},
     "nuid": "220430d6-151a-4d02-8d68-5e4d48ae8d7e",
     "showTitle": false,
     "title": ""
    }
   },
   "outputs": [
    {
     "output_type": "stream",
     "name": "stdout",
     "output_type": "stream",
     "text": [
      "+------------+-----------+----------+\n| player_name|season_year|total_runs|\n+------------+-----------+----------+\n|    se marsh|       2008|       616|\n|   ml hayden|       2009|       572|\n|sr tendulkar|       2010|       617|\n|    ch gayle|       2011|       604|\n|    ch gayle|       2012|       733|\n|  mek hussey|       2013|       733|\n|  rv uthappa|       2014|       660|\n|   da warner|       2015|       562|\n|     v kohli|       2016|       969|\n|   da warner|       2017|       641|\n+------------+-----------+----------+\n\n"
     ]
    }
   ],
   "source": [
    "top_scoring_batsmen_per_season = spark.sql(\"\"\"\n",
    "WITH ranked_batsmen AS (\n",
    "    SELECT \n",
    "        p.player_name,\n",
    "        m.season_year,\n",
    "        SUM(b.runs_scored) AS total_runs,\n",
    "        ROW_NUMBER() OVER (PARTITION BY m.season_year ORDER BY SUM(b.runs_scored) DESC) AS rank\n",
    "    FROM ball_by_ball b\n",
    "    JOIN match m ON b.match_id = m.match_id   \n",
    "    JOIN player_match pm ON m.match_id = pm.match_id AND b.striker = pm.player_id     \n",
    "    JOIN player p ON p.player_id = pm.player_id\n",
    "    GROUP BY p.player_name, m.season_year\n",
    ")\n",
    "SELECT\n",
    "    player_name,\n",
    "    season_year,\n",
    "    total_runs\n",
    "FROM ranked_batsmen\n",
    "WHERE rank = 1\n",
    "ORDER BY season_year\n",
    "\"\"\")\n",
    "top_scoring_batsmen_per_season.show()"
   ]
  },
  {
   "cell_type": "code",
   "execution_count": 0,
   "metadata": {
    "application/vnd.databricks.v1+cell": {
     "cellMetadata": {
      "byteLimit": 2048000,
      "rowLimit": 10000
     },
     "inputWidgets": {},
     "nuid": "130d4aac-e48a-4051-aa87-05c8fe98a277",
     "showTitle": false,
     "title": ""
    }
   },
   "outputs": [
    {
     "output_type": "stream",
     "name": "stdout",
     "output_type": "stream",
     "text": [
      "+--------+-----------+-----------------------+\n|match_id|season_year|max_runs_in_one_innings|\n+--------+-----------+-----------------------+\n|  335988|       2008|                    234|\n|  392215|       2009|                    207|\n|  419142|       2010|                    240|\n|  501228|       2011|                    215|\n|  548385|       2012|                    216|\n|  598032|       2013|                    252|\n|  733992|       2014|                    221|\n|  829800|       2015|                    228|\n|  980992|       2016|                    240|\n| 1082641|       2017|                    220|\n+--------+-----------+-----------------------+\n\n"
     ]
    }
   ],
   "source": [
    "top_runs_per_seasons = spark.sql(\"\"\"\n",
    "WITH ranked_batsmen AS (\n",
    "    SELECT \n",
    "      b.match_id,\n",
    "        m.season_year,\n",
    "       \n",
    "        b.innings_no,\n",
    "        SUM(b.runs_scored) AS total_runs,\n",
    "        ROW_NUMBER() OVER (PARTITION BY m.season_year ORDER BY SUM(b.runs_scored) DESC) AS rank\n",
    "    FROM ball_by_ball b\n",
    "    JOIN match m ON b.match_id = m.match_id   \n",
    "    JOIN player_match pm ON m.match_id = pm.match_id AND b.striker = pm.player_id     \n",
    "    JOIN player p ON p.player_id = pm.player_id\n",
    "   \n",
    "    GROUP BY  m.season_year,  b.innings_no,b.match_id\n",
    ")\n",
    "SELECT\n",
    "    match_id,\n",
    "    season_year,\n",
    "    total_runs AS max_runs_in_one_innings\n",
    "FROM ranked_batsmen\n",
    "WHERE rank = 1\n",
    "ORDER BY season_year\n",
    "\"\"\")\n",
    "top_runs_per_seasons.show()\n"
   ]
  },
  {
   "cell_type": "code",
   "execution_count": 0,
   "metadata": {
    "application/vnd.databricks.v1+cell": {
     "cellMetadata": {
      "byteLimit": 2048000,
      "rowLimit": 10000
     },
     "inputWidgets": {},
     "nuid": "2801d4c3-bf03-4e5f-832d-7505cc74aece",
     "showTitle": false,
     "title": ""
    }
   },
   "outputs": [
    {
     "output_type": "stream",
     "name": "stdout",
     "output_type": "stream",
     "text": [
      "+-----------+--------------------+-----------------------+\n|season_year|           team_name|max_runs_in_one_innings|\n+-----------+--------------------+-----------------------+\n|       2008| Chennai Super Kings|                    240|\n|       2009|    Rajasthan Royals|                    211|\n|       2010| Chennai Super Kings|                    246|\n|       2011|     Kings XI Punjab|                    232|\n|       2012| Chennai Super Kings|                    222|\n|       2013|Royal Challengers...|                    263|\n|       2014|     Kings XI Punjab|                    231|\n|       2015|Royal Challengers...|                    235|\n|       2016|Royal Challengers...|                    244|\n+-----------+--------------------+-----------------------+\n\n"
     ]
    }
   ],
   "source": [
    "top_runs_per_seasons = spark.sql(\"\"\"\n",
    "WITH ranked_batsmen AS (\n",
    "    SELECT \n",
    "        b.match_id,\n",
    "        m.season_year,\n",
    "        t.team_name,\n",
    "        b.innings_no,\n",
    "        SUM(b.runs_scored + b.extra_runs) AS total_runs,\n",
    "        ROW_NUMBER() OVER (PARTITION BY m.season_year ORDER BY SUM(b.runs_scored + b.extra_runs) DESC) AS rank\n",
    "    FROM ball_by_ball b\n",
    "    JOIN match m ON b.match_id = m.match_id   \n",
    "    JOIN player_match pm ON m.match_id = pm.match_id AND b.striker = pm.player_id     \n",
    "    JOIN player p ON p.player_id = pm.player_id\n",
    "    JOIN team t ON t.team_id = b.team_batting\n",
    "    GROUP BY m.season_year, t.team_name, b.innings_no, b.match_id\n",
    ")\n",
    "SELECT\n",
    "  \n",
    "    season_year,\n",
    "    team_name,\n",
    "    total_runs AS max_runs_in_one_innings\n",
    "FROM ranked_batsmen\n",
    "WHERE rank = 1\n",
    "ORDER BY season_year\n",
    "\"\"\")\n",
    "top_runs_per_seasons.show()\n",
    "\n"
   ]
  },
  {
   "cell_type": "code",
   "execution_count": 0,
   "metadata": {
    "application/vnd.databricks.v1+cell": {
     "cellMetadata": {
      "byteLimit": 2048000,
      "rowLimit": 10000
     },
     "inputWidgets": {},
     "nuid": "b6498652-93d8-499e-805d-d41a5ed31ebe",
     "showTitle": false,
     "title": ""
    }
   },
   "outputs": [
    {
     "output_type": "stream",
     "name": "stdout",
     "output_type": "stream",
     "text": [
      "+--------+--------------------+---------+--------------------+-------------+\n|match_id|         toss_winner|toss_name|        match_winner|match_outcome|\n+--------+--------------------+---------+--------------------+-------------+\n|  335987|Royal Challengers...|    field|Kolkata Knight Ri...|         Lost|\n|  335988| Chennai Super Kings|      bat| Chennai Super Kings|          Won|\n|  335989|    Rajasthan Royals|      bat|    Delhi Daredevils|         Lost|\n|  335990|      Mumbai Indians|      bat|Royal Challengers...|         Lost|\n|  335991|     Deccan Chargers|      bat|Kolkata Knight Ri...|         Lost|\n|  335992|     Kings XI Punjab|      bat|    Rajasthan Royals|         Lost|\n|  335993|     Deccan Chargers|      bat|    Delhi Daredevils|         Lost|\n|  335994|      Mumbai Indians|    field| Chennai Super Kings|         Lost|\n|  335995|    Rajasthan Royals|    field|    Rajasthan Royals|          Won|\n|  335996|      Mumbai Indians|    field|     Kings XI Punjab|         Lost|\n|  335997|    Rajasthan Royals|    field|    Rajasthan Royals|          Won|\n|  335998|Kolkata Knight Ri...|      bat| Chennai Super Kings|         Lost|\n|  335999|     Deccan Chargers|    field|     Deccan Chargers|          Won|\n|  336000|    Delhi Daredevils|      bat|     Kings XI Punjab|         Lost|\n|  336001| Chennai Super Kings|      bat| Chennai Super Kings|          Won|\n|  336002|Kolkata Knight Ri...|      bat|      Mumbai Indians|         Lost|\n|  336003|Royal Challengers...|    field|    Delhi Daredevils|         Lost|\n|  336004|     Kings XI Punjab|    field|     Kings XI Punjab|          Won|\n|  336005|    Rajasthan Royals|      bat|    Rajasthan Royals|          Won|\n|  336006| Chennai Super Kings|      bat|    Delhi Daredevils|         Lost|\n+--------+--------------------+---------+--------------------+-------------+\nonly showing top 20 rows\n\n"
     ]
    }
   ],
   "source": [
    "toss_impact_individual_matches = spark.sql(\"\"\"\n",
    "SELECT m.match_id, m.toss_winner, m.toss_name, m.match_winner,\n",
    "       CASE WHEN m.toss_winner = m.match_winner THEN 'Won' ELSE 'Lost' END AS match_outcome\n",
    "FROM match m\n",
    "WHERE m.toss_name IS NOT NULL\n",
    "ORDER BY m.match_id\n",
    "\"\"\")\n",
    "toss_impact_individual_matches.show()"
   ]
  },
  {
   "cell_type": "code",
   "execution_count": 0,
   "metadata": {
    "application/vnd.databricks.v1+cell": {
     "cellMetadata": {
      "byteLimit": 2048000,
      "rowLimit": 10000
     },
     "inputWidgets": {},
     "nuid": "c3e85f31-0ff1-49c6-a0f7-7230c0a673da",
     "showTitle": false,
     "title": ""
    }
   },
   "outputs": [],
   "source": [
    "import matplotlib.pyplot as plt\n",
    "import seaborn as sns"
   ]
  },
  {
   "cell_type": "code",
   "execution_count": 0,
   "metadata": {
    "application/vnd.databricks.v1+cell": {
     "cellMetadata": {
      "byteLimit": 2048000,
      "rowLimit": 10000
     },
     "inputWidgets": {},
     "nuid": "015b4836-a045-468f-8129-20bff5197698",
     "showTitle": false,
     "title": ""
    }
   },
   "outputs": [
    {
     "output_type": "display_data",
     "data": {
      "image/png": "[encoded data removed]"
     },
     "metadata": {
      "application/vnd.databricks.v1+output": {
       "addedWidgets": {},
       "arguments": {},
       "data": "data:image/png;base64,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\n",
       "datasetInfos": [],
       "metadata": {},
       "removedWidgets": [],
       "type": "image"
      }
     },
     "output_type": "display_data"
    }
   ],
   "source": [
    "toss_impact_pd = toss_impact_individual_matches.toPandas()\n",
    "\n",
    "# Creating a countplot to show win/loss after winning toss\n",
    "plt.figure(figsize=(15, 7))\n",
    "sns.countplot(x='toss_winner', hue='match_outcome', data=toss_impact_pd)\n",
    "plt.title('Impact of Winning Toss on Match Outcomes')\n",
    "plt.xlabel('Toss Winner')\n",
    "plt.ylabel('Number of Matches')\n",
    "plt.legend(title='Match Outcome')\n",
    "plt.xticks(rotation=45)\n",
    "plt.tight_layout()\n",
    "plt.show()"
   ]
  },
  {
   "cell_type": "code",
   "execution_count": 0,
   "metadata": {
    "application/vnd.databricks.v1+cell": {
     "cellMetadata": {},
     "inputWidgets": {},
     "nuid": "61a05aa8-9e61-4450-a80b-e8eaca2a6b10",
     "showTitle": false,
     "title": ""
    }
   },
   "outputs": [],
   "source": []
  }
 ],
 "metadata": {
  "application/vnd.databricks.v1+notebook": {
   "dashboards": [],
   "environmentMetadata": null,
   "language": "python",
   "notebookMetadata": {
    "pythonIndentUnit": 4
   },
   "notebookName": "Data_Analysis_IPL_Till_2017",
   "widgets": {}
  }
 },
 "nbformat": 4,
 "nbformat_minor": 0
}
